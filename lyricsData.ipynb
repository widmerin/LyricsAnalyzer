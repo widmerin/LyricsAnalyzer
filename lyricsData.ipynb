{
 "cells": [
  {
   "cell_type": "markdown",
   "metadata": {
    "nbgrader": {
     "grade": false,
     "grade_id": "header",
     "locked": true,
     "schema_version": 1.0,
     "solution": false
    }
   },
   "source": [
    "# DSP - Aufgabenblatt 2\n",
    "#### FHNW - HS2018"
   ]
  },
  {
   "cell_type": "markdown",
   "metadata": {
    "nbgrader": {
     "grade": false,
     "grade_id": "cell-66340a1a529a0ed8",
     "locked": true,
     "schema_version": 1.0,
     "solution": false
    }
   },
   "source": [
    "## Jupyter notebooks,  `python`-Basics"
   ]
  },
  {
   "cell_type": "markdown",
   "metadata": {
    "nbgrader": {
     "grade": false,
     "grade_id": "cell-4808209bcdd4f9ae",
     "locked": true,
     "schema_version": 1.0,
     "solution": false
    }
   },
   "source": [
    "### Aufgabe 1\n",
    "\n",
    "Nehmen Sie die 'Interface Tour' im Menü 'Help'.  \n",
    "\n",
    "Schauen Sie sich dann 'Keyboard Shortcuts' im 'Help'-Menü an und merken Sie sich was Sie denken wichtig ist."
   ]
  },
  {
   "cell_type": "markdown",
   "metadata": {
    "nbgrader": {
     "grade": false,
     "grade_id": "cell-571bc1ca4e48501d",
     "locked": true,
     "schema_version": 1.0,
     "solution": false
    }
   },
   "source": [
    "### Aufgabe 2\n",
    "\n",
    "Implementieren Sie eine Klasse für ein Rechteck parallel zu den Koordinatenachsen, welches mit zwei Punkten initialisiert werden kann.  \n",
    "\n",
    "Fügen Sie der Klasse dann eine Methode hinzu, welche für einen weiteren Punkt zurückgibt, ob der Punkt innerhalb des Rechtecks liegt oder nicht.  \n",
    "\n",
    "Eine weitere Methode soll die Fläche des Rechtecks berechnen."
   ]
  },
  {
   "cell_type": "markdown",
   "metadata": {
    "nbgrader": {
     "grade": false,
     "grade_id": "cell-3efb313c07cd29f7",
     "locked": true,
     "schema_version": 1.0,
     "solution": false
    }
   },
   "source": [
    "### Aufgabe 3\n",
    "\n",
    "Ergänzen Sie die Folgende Klasse für ein Vektor in zwei Dimensionen um Methoden, welche\n",
    "\n",
    "1. Vektoraddition, Subtraktion und Multplikation mit einem Skalar berechnet, unter Verwendung der Operatoren `+, -, *`.\n",
    "2. Die Koordinaten des Vektors in [Polarkoordinaten](https://de.wikipedia.org/wiki/Polarkoordinaten) zurückgibt\n",
    "3. eine Rotation des Vektors um den Ursprung ausführt.\n",
    "4. die Länge des Vektors als Resultat der Funktion `len` zurückgibt.\n",
    "\n",
    "Durch aufrufen der Methode `plot`, können Sie den Vektor zeichnen."
   ]
  },
  {
   "cell_type": "code",
   "execution_count": 1,
   "metadata": {
    "nbgrader": {
     "grade": false,
     "grade_id": "cell-84a156f30f24aa25",
     "locked": true,
     "schema_version": 1.0,
     "solution": false
    }
   },
   "outputs": [],
   "source": [
    "import matplotlib.pyplot as plt\n",
    "%matplotlib inline\n",
    "\n",
    "import seaborn as sns\n",
    "sns.set_style('whitegrid')"
   ]
  },
  {
   "cell_type": "code",
   "execution_count": 2,
   "metadata": {
    "nbgrader": {
     "grade": true,
     "grade_id": "cell-1a6ed980931fe038",
     "locked": false,
     "points": 0.0,
     "schema_version": 1.0,
     "solution": true
    }
   },
   "outputs": [],
   "source": [
    "class Vector():\n",
    "    '''\n",
    "    '''\n",
    "    \n",
    "    def __init__(self, x1, x2):\n",
    "        '''A Vector in 2D that extends from x1 to x2.\n",
    "        \n",
    "        Arguments\n",
    "        ---------\n",
    "        x1 : Tuple of two numerical values\n",
    "        x2 : Tuple of two numerical values\n",
    "        \n",
    "        '''\n",
    "        self.x1 = x1\n",
    "        self.x2 = x2\n",
    "        \n",
    "    def plot(self, color='k'):\n",
    "        '''Draws the vector into a coordinate system.\n",
    "        \n",
    "        You can provide an axes to plot into and specify\n",
    "        the color of the vector line.\n",
    "        '''\n",
    "        fig, ax = plt.subplots(figsize = (8,8))\n",
    "        ax.plot([self.x1[0], self.x2[0]],[self.x1[1],self.x2[1]], c=color, lw=2)\n",
    "        lim = max(abs(self.x1[0]), abs(self.x2[0]), abs(self.x1[1]), abs(self.x2[1]),)\n",
    "        lims = (-lim-2*lim*0.1, lim+2*lim*0.1)\n",
    "        ax.set_xlim(*lims)\n",
    "        ax.set_ylim(*lims)\n",
    "        return fig, ax"
   ]
  },
  {
   "cell_type": "code",
   "execution_count": 3,
   "metadata": {
    "nbgrader": {
     "grade": true,
     "grade_id": "cell-c44a0a718360f798",
     "locked": false,
     "points": 0.0,
     "schema_version": 1.0,
     "solution": true
    },
    "run_control": {
     "marked": false
    }
   },
   "outputs": [
    {
     "data": {
      "image/png": "[encoded data removed]",
      "text/plain": [
       "<Figure size 576x576 with 1 Axes>"
      ]
     },
     "metadata": {},
     "output_type": "display_data"
    }
   ],
   "source": [
    "v = Vector((-2, -4), (3, 5))\n",
    "fig, ax = v.plot()"
   ]
  },
  {
   "cell_type": "markdown",
   "metadata": {
    "nbgrader": {
     "grade": false,
     "grade_id": "cell-1e7a05c0efcccab9",
     "locked": true,
     "schema_version": 1.0,
     "solution": false
    }
   },
   "source": [
    "### Aufgabe 4\n",
    "\n",
    "Implementieren Sie eine Klasse, um das Spiel [*Rock, Paper, Scissors (Lizard, Spok)*](https://de.wikipedia.org/wiki/Schere,_Stein,_Papier) zu spielen.  \n",
    "\n",
    "Verwenden Sie die Funktion `input` um die Eingabe von einem Spieler zu erhalten.  \n",
    "\n",
    "Erzeugen sie die Wahl des Computerspielers mit Hilfe von `random.choice`.  \n",
    "\n",
    "Speichern Sie den Spielstand über mehrere Runden hinweg und geben sie den Zwischenstand als Resultat auf den Aufruf von `str` auf dem Objekt zurück.  \n",
    "\n",
    "Stecken sie den *code* in ein `python` *script*, sodass sie das Spiel über die Kommandozeile spielen können."
   ]
  },
  {
   "cell_type": "markdown",
   "metadata": {
    "nbgrader": {
     "grade": false,
     "grade_id": "cell-db508f169b831c10",
     "locked": true,
     "schema_version": 1.0,
     "solution": false
    }
   },
   "source": [
    "### Aufgabe 5\n",
    "\n",
    "Schreiben sie eine *Generator Function* für die [Fibonacci-Folge](https://de.wikipedia.org/wiki/Fibonacci-Folge).  \n",
    "\n",
    "Geben Sie die ersten 100 Werte aus.  \n",
    "\n",
    "Vergleichen Sie die Eigenschaften der *Generator Function* mit denjenigen einer Funktion welche eine `list` zurückgibt.  \n",
    "\n",
    "Überlegen Sie sich was und wie Sie hier *profilen* könnten.  "
   ]
  },
  {
   "cell_type": "markdown",
   "metadata": {
    "nbgrader": {
     "grade": false,
     "grade_id": "cell-334313f1cfb82edb",
     "locked": true,
     "schema_version": 1.0,
     "solution": false
    }
   },
   "source": [
    "### Aufgabe 6\n",
    "\n",
    "Schreiben sie eine *Generator Function* welche eine Datei öffnet, Zeile für Zeile durch die Datei hindurchschreitet, eine Operation auf der Zeile ausführt und das Resultat zurückgibt.  \n",
    "\n",
    "Beispiel: Sie öffnen *Shakespeare's* gesammelte Werke von `/data/dsp/all-shakespeare.txt` und geben für jede Zeile auf welcher 'Romeo' steht Zeilenzahl und Anzahl Nennungen zurück. Sie könnten, die Funktion auch so schreiben, dass sie ein beliebiges Wort suchen können."
   ]
  },
  {
   "cell_type": "markdown",
   "metadata": {
    "nbgrader": {
     "grade": false,
     "grade_id": "cell-d97491c8dcfa3e63",
     "locked": true,
     "schema_version": 1.0,
     "solution": false
    }
   },
   "source": [
    "### Aufgabe 7\n",
    "\n",
    "Schreiben Sie einen *Decorator* mit Hilfe von [`functools`](https://docs.python.org/3.6/library/functools.html)`.wraps`, welcher es analog zum *Profiling Context Manager* im Skript erlaubt, die Zeit zu messen, welche ein Funktionsaufruf braucht, durch Dekoration mit `@profile`.  "
   ]
  }
 ],
 "metadata": {
  "celltoolbar": "Create Assignment",
  "kernelspec": {
   "display_name": "Python 3",
   "language": "python",
   "name": "python3"
  },
  "language_info": {
   "codemirror_mode": {
    "name": "ipython",
    "version": 3
   },
   "file_extension": ".py",
   "mimetype": "text/x-python",
   "name": "python",
   "nbconvert_exporter": "python",
   "pygments_lexer": "ipython3",
   "version": "3.6.3"
  },
  "widgets": {
   "state": {
    "dbc998941ccc427b90355fd1d11b0c07": {
     "views": [
      {
       "cell_index": 25.0
      }
     ]
    }
   },
   "version": "1.2.0"
  }
 },
 "nbformat": 4,
 "nbformat_minor": 1
}
