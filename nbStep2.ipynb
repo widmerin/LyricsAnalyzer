{
 "cells": [
  {
   "cell_type": "code",
   "execution_count": 2,
   "metadata": {
    "collapsed": true
   },
   "outputs": [],
   "source": [
    "import matplotlib.pyplot as plt\n",
    "import pandas as pd\n",
    "import numpy as np\n",
    "from sklearn.feature_extraction.text import CountVectorizer\n",
    "%matplotlib inline\n",
    "\n",
    "#  Analyse swiss charts data\n",
    "#  from 7.10.2018 until 4.10.1998\n",
    "\n",
    "### read json data from file into pandas object\n",
    "path2data = 'data/charts_lyrics_1998-2018.json'\n",
    "data = pd.read_json(path_or_buf=path2data, orient=None, typ='frame', dtype=True, convert_axes=True, convert_dates=True,\n",
    "                 keep_default_dates=True, numpy=False, precise_float=False, date_unit=None, encoding='utf-8',\n",
    "                 lines=False, chunksize=None, compression='infer')\n",
    "\n",
    "## Get n most common words for data\n",
    "def get_top_n_words(lyrics, n=None):\n",
    "    vec = CountVectorizer(stop_words='english').fit(lyrics)\n",
    "    bag_of_words = vec.transform(lyrics)    # matrix where each row represents a specific text\n",
    "    sum_words = bag_of_words.sum(axis=0)    # vector that contains the sum of each word occurrence\n",
    "    words_freq = [(word, sum_words[0, idx]) for word, idx in vec.vocabulary_.items()] # Create tuples with word and word count\n",
    "    words_freq = sorted(words_freq, key=lambda x: x[1], reverse=True) # Sort list\n",
    "    return words_freq[:n]\n",
    "\n",
    "## Plot most common words as bar chart\n",
    "def plotTopWords(common_words, title):\n",
    "    nr_words = len(common_words)\n",
    "    count = [x[1] for x in common_words]\n",
    "    words = [x[0] for x in common_words]\n",
    "\n",
    "    fig, ax = plt.subplots()\n",
    "\n",
    "    index = np.arange(nr_words)\n",
    "    bar_width = 0.3\n",
    "    opacity = 0.4\n",
    "\n",
    "    rec = plt.barh(index, count, bar_width,\n",
    "                     alpha=opacity,\n",
    "                     color='b',\n",
    "                     label='Ocurrences')\n",
    "\n",
    "    plt.xlabel('Word Count')\n",
    "    plt.title('Most frequent word in lyrics ('+str(title)+\")\")\n",
    "    plt.yticks(index, words)\n",
    "    plt.legend()\n",
    "\n",
    "    plt.tight_layout()\n",
    "    plt.show()\n",
    "\n",
    "def chartTitle(dates):\n",
    "    maxYear = dates.max()\n",
    "    minYear = dates.min()\n",
    "    if maxYear.year == minYear.year:\n",
    "        return maxYear.year\n",
    "    else:\n",
    "        return str(minYear.year)+\" - \"+str(maxYear.year)"
   ]
  },
  {
   "cell_type": "code",
   "execution_count": 3,
   "metadata": {},
   "outputs": [
    {
     "data": {
      "image/png": "[encoded data removed]",
      "text/plain": [
       "<matplotlib.figure.Figure at 0x11ba6bb70>"
      ]
     },
     "metadata": {},
     "output_type": "display_data"
    }
   ],
   "source": [
    "### Plot Top words for all Data (1998 - 2018)\n",
    "common_words = get_top_n_words(data.lyrics, 15) ## Get n most common words for data\n",
    "title = chartTitle(data.date) ## Get years for plot title\n",
    "plotTopWords(common_words,title) ## Plot most common words"
   ]
  },
  {
   "cell_type": "code",
   "execution_count": null,
   "metadata": {},
   "outputs": [],
   "source": []
  }
 ],
 "metadata": {
  "kernelspec": {
   "display_name": "Python 2",
   "language": "python",
   "name": "python2"
  },
  "language_info": {
   "codemirror_mode": {
    "name": "ipython",
    "version": 2
   },
   "file_extension": ".py",
   "mimetype": "text/x-python",
   "name": "python",
   "nbconvert_exporter": "python",
   "pygments_lexer": "ipython2",
   "version": "2.7.6"
  }
 },
 "nbformat": 4,
 "nbformat_minor": 0
}
